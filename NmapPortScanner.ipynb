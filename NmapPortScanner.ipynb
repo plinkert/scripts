{
 "cells": [
  {
   "cell_type": "markdown",
   "id": "235a1bde-f0a2-4fe2-a064-5ec8237077be",
   "metadata": {},
   "source": [
    "## Script that scans the specified ports of the specified hosts with nmap"
   ]
  },
  {
   "cell_type": "code",
   "execution_count": 97,
   "id": "f4020153-fa96-45bb-b78e-5f176182f572",
   "metadata": {},
   "outputs": [],
   "source": [
    "import ipaddress\n",
    "import nmap\n",
    "import csv\n",
    "from ipywidgets import interact, interactive, fixed, interact_manual\n",
    "import ipywidgets as widgets\n",
    "\n",
    "def ipValidation(ip):\n",
    "    try:\n",
    "        ipaddress.ip_address(ip)\n",
    "        return True\n",
    "    except ValueError:\n",
    "        print('%s: IP address is invalid' % ip)\n",
    "        return False\n",
    "        \n",
    "def nmapScan(host, port):\n",
    "    portScanner = nmap.PortScanner()\n",
    "    portScanner.scan(host, arguments = '-n -p' + port)\n",
    "    print(\"[+] Command line: \" + portScanner.command_line())\n",
    "    print(\"[+] Scan...\")\n",
    "    #print(portScanner.csv())\n",
    "    scanValidation(portScanner.csv())\n",
    "\n",
    "    \n",
    "def scanValidation(text):\n",
    "    for line in text.split(\"\\n\")[1:-1]:\n",
    "        splitedLine = line.split(\";\")\n",
    "        host = splitedLine[0]\n",
    "        protocol = splitedLine[5]\n",
    "        port = splitedLine[4]\n",
    "        state = splitedLine[6]\n",
    "        print(host + \"\\t\" + protocol + \"\\t\" + port + \"\\t\" + state)\n",
    "        \n",
    "def run():\n",
    "    ports = txtmlport.value\n",
    "    hosts = txtmlip.value\n",
    "    for line in hosts.splitlines():\n",
    "        if ipValidation(line):\n",
    "            print('[+] Host: ' + line)\n",
    "            print('[+] Ports: ' + ports)\n",
    "            nmapScan(line, ports)\n",
    "        \n",
    "txtmlip = widgets.Textarea(\n",
    " placeholder = 'Provided a list of IP addresses',\n",
    " description = 'IP list'\n",
    " )\n",
    "\n",
    "txtmlport = widgets.Textarea(\n",
    "    value = '-',\n",
    "    placeholder = 'Provided a list of port to scan',\n",
    "    description = 'Port list'\n",
    " )\n",
    "        "
   ]
  },
  {
   "cell_type": "markdown",
   "id": "3132f78e-d53e-458d-b8c2-5ba90eb1de4b",
   "metadata": {
    "tags": []
   },
   "source": [
    "### Provide a list of IP addresses - one address per line"
   ]
  },
  {
   "cell_type": "code",
   "execution_count": 100,
   "id": "7486c103-3ab9-45f8-9590-4acfda32bcdf",
   "metadata": {},
   "outputs": [
    {
     "data": {
      "application/vnd.jupyter.widget-view+json": {
       "model_id": "e6ee9dec8a034b2db1ca4ec57baac6b9",
       "version_major": 2,
       "version_minor": 0
      },
      "text/plain": [
       "Textarea(value='-', description='Port list', placeholder='Provided a list of port to scan')"
      ]
     },
     "metadata": {},
     "output_type": "display_data"
    }
   ],
   "source": [
    "display(txtmlport)"
   ]
  },
  {
   "cell_type": "markdown",
   "id": "9b9c67b4-cc68-48e6-813a-abe8fabe82a6",
   "metadata": {},
   "source": [
    "### Give a list of ports, separating them with a comma (empty field means that all ports are scanned)"
   ]
  },
  {
   "cell_type": "code",
   "execution_count": 99,
   "id": "8b40e38e-aa86-446e-a5c4-f0ee5fe035f5",
   "metadata": {},
   "outputs": [
    {
     "data": {
      "application/vnd.jupyter.widget-view+json": {
       "model_id": "970fd84b167e455aaadaf5d816cbf5c4",
       "version_major": 2,
       "version_minor": 0
      },
      "text/plain": [
       "Textarea(value='', description='IP list', placeholder='Provided a list of IP addresses')"
      ]
     },
     "metadata": {},
     "output_type": "display_data"
    }
   ],
   "source": [
    "display(txtmlip)"
   ]
  },
  {
   "cell_type": "markdown",
   "id": "bc96766e-e270-494a-b118-2b524093797d",
   "metadata": {},
   "source": [
    "### Run the script"
   ]
  },
  {
   "cell_type": "code",
   "execution_count": 101,
   "id": "c2e6b446-2cb7-49b1-bfd0-b26a92933a0c",
   "metadata": {},
   "outputs": [
    {
     "name": "stdout",
     "output_type": "stream",
     "text": [
      "[+] Host: 45.33.32.156\n",
      "[+] Ports: 21,22,23,24,25,80,443\n",
      "[+] Command line: nmap -oX - -n -p21,22,23,24,25,80,443 45.33.32.156\n",
      "[+] Scan...\n",
      "45.33.32.156\tftp\t21\tfiltered\n",
      "45.33.32.156\tssh\t22\topen\n",
      "45.33.32.156\ttelnet\t23\tfiltered\n",
      "45.33.32.156\tpriv-mail\t24\tfiltered\n",
      "45.33.32.156\tsmtp\t25\tfiltered\n",
      "45.33.32.156\thttp\t80\topen\n",
      "45.33.32.156\thttps\t443\tfiltered\n",
      "[+] Host: 127.0.0.1\n",
      "[+] Ports: 21,22,23,24,25,80,443\n",
      "[+] Command line: nmap -oX - -n -p21,22,23,24,25,80,443 127.0.0.1\n",
      "[+] Scan...\n",
      "127.0.0.1\tftp\t21\tclosed\n",
      "127.0.0.1\tssh\t22\tclosed\n",
      "127.0.0.1\ttelnet\t23\tclosed\n",
      "127.0.0.1\tpriv-mail\t24\tclosed\n",
      "127.0.0.1\tsmtp\t25\tclosed\n",
      "127.0.0.1\thttp\t80\topen\n",
      "127.0.0.1\thttps\t443\tclosed\n"
     ]
    }
   ],
   "source": [
    "run()"
   ]
  },
  {
   "cell_type": "code",
   "execution_count": null,
   "id": "83f466b8-0392-4710-b8e4-a3dac3771d5c",
   "metadata": {},
   "outputs": [],
   "source": []
  },
  {
   "cell_type": "code",
   "execution_count": null,
   "id": "2380f43b-3031-496d-bf7d-34349b751a1f",
   "metadata": {},
   "outputs": [],
   "source": []
  }
 ],
 "metadata": {
  "kernelspec": {
   "display_name": "Python 3 (ipykernel)",
   "language": "python",
   "name": "python3"
  },
  "language_info": {
   "codemirror_mode": {
    "name": "ipython",
    "version": 3
   },
   "file_extension": ".py",
   "mimetype": "text/x-python",
   "name": "python",
   "nbconvert_exporter": "python",
   "pygments_lexer": "ipython3",
   "version": "3.9.7"
  }
 },
 "nbformat": 4,
 "nbformat_minor": 5
}
